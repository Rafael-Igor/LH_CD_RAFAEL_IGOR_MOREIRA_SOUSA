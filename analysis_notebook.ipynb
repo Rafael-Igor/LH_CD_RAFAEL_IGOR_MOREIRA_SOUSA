{
 "cells": [
  {
   "cell_type": "markdown",
   "id": "1f7d8cda",
   "metadata": {},
   "source": [
    "# Análise Exploratória dos Dados (EDA)"
   ]
  },
  {
   "cell_type": "code",
   "execution_count": null,
   "id": "ef8c9eed",
   "metadata": {},
   "outputs": [],
   "source": [
    "\n",
    "import pandas as pd\n",
    "import matplotlib.pyplot as plt\n",
    "import seaborn as sns\n",
    "\n",
    "# Carregar dados\n",
    "df = pd.read_csv(\"desafio_indicium_imdb.csv\")\n",
    "\n",
    "# Visualizar primeiras linhas\n",
    "df.head()\n"
   ]
  },
  {
   "cell_type": "code",
   "execution_count": null,
   "id": "89df5ae3",
   "metadata": {},
   "outputs": [],
   "source": [
    "\n",
    "# Estatísticas descritivas\n",
    "df.describe(include=\"all\")\n"
   ]
  },
  {
   "cell_type": "code",
   "execution_count": null,
   "id": "1181c0d8",
   "metadata": {},
   "outputs": [],
   "source": [
    "\n",
    "# Distribuição das notas IMDb\n",
    "plt.figure(figsize=(8,5))\n",
    "sns.histplot(df['IMDB_Rating'], bins=20, kde=True)\n",
    "plt.title(\"Distribuição das notas IMDb\")\n",
    "plt.show()\n"
   ]
  },
  {
   "cell_type": "code",
   "execution_count": null,
   "id": "af5c1534",
   "metadata": {},
   "outputs": [],
   "source": [
    "\n",
    "# Top 10 gêneros mais frequentes\n",
    "df['Genre'].value_counts().head(10).plot(kind='bar', figsize=(10,5), title=\"Top 10 gêneros mais frequentes\")\n",
    "plt.show()\n"
   ]
  },
  {
   "cell_type": "code",
   "execution_count": null,
   "id": "e801a688",
   "metadata": {},
   "outputs": [],
   "source": [
    "\n",
    "# Relação entre faturamento bruto e nota IMDb\n",
    "plt.figure(figsize=(8,5))\n",
    "sns.scatterplot(data=df, x=\"IMDB_Rating\", y=\"Gross\")\n",
    "plt.title(\"Relação entre IMDB Rating e Faturamento (Gross)\")\n",
    "plt.show()\n"
   ]
  },
  {
   "cell_type": "code",
   "execution_count": null,
   "id": "5ce3ab6b",
   "metadata": {},
   "outputs": [],
   "source": [
    "\n",
    "# Correlação entre variáveis numéricas\n",
    "plt.figure(figsize=(10,6))\n",
    "sns.heatmap(df.corr(numeric_only=True), annot=True, cmap=\"coolwarm\")\n",
    "plt.title(\"Mapa de calor das correlações\")\n",
    "plt.show()\n"
   ]
  }
 ],
 "metadata": {},
 "nbformat": 4,
 "nbformat_minor": 5
}
